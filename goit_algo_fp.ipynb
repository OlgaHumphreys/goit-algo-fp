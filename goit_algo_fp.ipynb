{
  "nbformat": 4,
  "nbformat_minor": 0,
  "metadata": {
    "colab": {
      "provenance": [],
      "authorship_tag": "ABX9TyN5ftWhPPK4xKQXD8tNRw6p",
      "include_colab_link": true
    },
    "kernelspec": {
      "name": "python3",
      "display_name": "Python 3"
    },
    "language_info": {
      "name": "python"
    }
  },
  "cells": [
    {
      "cell_type": "markdown",
      "metadata": {
        "id": "view-in-github",
        "colab_type": "text"
      },
      "source": [
        "<a href=\"https://colab.research.google.com/github/OlgaHumphreys/goit-algo-fp/blob/main/goit_algo_fp.ipynb\" target=\"_parent\"><img src=\"https://colab.research.google.com/assets/colab-badge.svg\" alt=\"Open In Colab\"/></a>"
      ]
    },
    {
      "cell_type": "markdown",
      "source": [
        "Завдання 1. Структури даних. Сортування. Робота з однозв'язним списком\n",
        "\n",
        "Для реалізації однозв'язного списку (приклад реалізації можна взяти з конспекту) необхідно:\n",
        "написати функцію, яка реалізує реверсування однозв'язного списку, змінюючи посилання між вузлами;\n",
        "розробити алгоритм сортування для однозв'язного списку, наприклад, сортування вставками або злиттям;\n",
        "написати функцію, що об'єднує два відсортовані однозв'язні списки в один відсортований список."
      ],
      "metadata": {
        "id": "Z5EBOfBQGkD-"
      }
    },
    {
      "cell_type": "markdown",
      "source": [
        "Реалізація однозв'язного списку"
      ],
      "metadata": {
        "id": "Yk2qV98mHfdt"
      }
    },
    {
      "cell_type": "code",
      "execution_count": 1,
      "metadata": {
        "id": "7b_87pm3GNVK"
      },
      "outputs": [],
      "source": [
        "class Node:\n",
        "    def __init__(self, data):\n",
        "        self.data = data\n",
        "        self.next = None\n",
        "\n",
        "class LinkedList:\n",
        "    def __init__(self):\n",
        "        self.head = None\n",
        "\n",
        "    def append(self, data):\n",
        "        new_node = Node(data)\n",
        "        if not self.head:\n",
        "            self.head = new_node\n",
        "            return\n",
        "        last = self.head\n",
        "        while last.next:\n",
        "            last = last.next\n",
        "        last.next = new_node\n",
        "\n",
        "    def print_list(self):\n",
        "        current = self.head\n",
        "        while current:\n",
        "            print(current.data, end=\" -> \")\n",
        "            current = current.next\n",
        "        print(\"None\")\n"
      ]
    },
    {
      "cell_type": "markdown",
      "source": [
        "Функція реверсування однозв'язного списку"
      ],
      "metadata": {
        "id": "tmPgDEniHlGG"
      }
    },
    {
      "cell_type": "code",
      "source": [
        "def reverse_linked_list(ll):\n",
        "    prev = None\n",
        "    current = ll.head\n",
        "    while current:\n",
        "        next_node = current.next\n",
        "        current.next = prev\n",
        "        prev = current\n",
        "        current = next_node\n",
        "    ll.head = prev\n"
      ],
      "metadata": {
        "id": "gP9jhfRgHp8R"
      },
      "execution_count": 2,
      "outputs": []
    },
    {
      "cell_type": "markdown",
      "source": [
        "Алгоритм сортування для однозв'язного списку (сортування злиттям)"
      ],
      "metadata": {
        "id": "XEf2PQwuHtwQ"
      }
    },
    {
      "cell_type": "code",
      "source": [
        "def merge_sort_linked_list(ll):\n",
        "    if not ll.head or not ll.head.next:\n",
        "        return ll\n",
        "\n",
        "    mid = get_middle(ll.head)\n",
        "    left_half = LinkedList()\n",
        "    right_half = LinkedList()\n",
        "    left_half.head = ll.head\n",
        "    right_half.head = mid.next\n",
        "    mid.next = None\n",
        "\n",
        "    left_sorted = merge_sort_linked_list(left_half)\n",
        "    right_sorted = merge_sort_linked_list(right_half)\n",
        "\n",
        "    sorted_list = merge_two_sorted_lists(left_sorted.head, right_sorted.head)\n",
        "    sorted_ll = LinkedList()\n",
        "    sorted_ll.head = sorted_list\n",
        "    return sorted_ll\n",
        "\n",
        "def get_middle(head):\n",
        "    if not head:\n",
        "        return head\n",
        "\n",
        "    slow = head\n",
        "    fast = head.next\n",
        "\n",
        "    while fast and fast.next:\n",
        "        slow = slow.next\n",
        "        fast = fast.next.next\n",
        "\n",
        "    return slow\n",
        "\n",
        "def merge_two_sorted_lists(l1, l2):\n",
        "    if not l1:\n",
        "        return l2\n",
        "    if not l2:\n",
        "        return l1\n",
        "\n",
        "    if l1.data < l2.data:\n",
        "        result = l1\n",
        "        result.next = merge_two_sorted_lists(l1.next, l2)\n",
        "    else:\n",
        "        result = l2\n",
        "        result.next = merge_two_sorted_lists(l1, l2.next)\n",
        "    return result\n"
      ],
      "metadata": {
        "id": "INp97dl7HxZD"
      },
      "execution_count": 3,
      "outputs": []
    },
    {
      "cell_type": "markdown",
      "source": [
        "Функція об'єднання двох відсортованих однозв'язних списків в один відсортований список"
      ],
      "metadata": {
        "id": "kou73jltH4X5"
      }
    },
    {
      "cell_type": "code",
      "source": [
        "def merge_sorted_linked_lists(l1, l2):\n",
        "    dummy = Node(0)\n",
        "    tail = dummy\n",
        "\n",
        "    while l1 and l2:\n",
        "        if l1.data < l2.data:\n",
        "            tail.next = l1\n",
        "            l1 = l1.next\n",
        "        else:\n",
        "            tail.next = l2\n",
        "            l2 = l2.next\n",
        "        tail = tail.next\n",
        "\n",
        "    if l1:\n",
        "        tail.next = l1\n",
        "    if l2:\n",
        "        tail.next = l2\n",
        "\n",
        "    merged_list = LinkedList()\n",
        "    merged_list.head = dummy.next\n",
        "    return merged_list\n"
      ],
      "metadata": {
        "id": "Eu4yJuJBH7-7"
      },
      "execution_count": 4,
      "outputs": []
    },
    {
      "cell_type": "markdown",
      "source": [
        "Тепер протестуємо наші функції."
      ],
      "metadata": {
        "id": "61pEyc09IHC-"
      }
    },
    {
      "cell_type": "code",
      "source": [
        "\n",
        "ll = LinkedList()\n",
        "ll.append(3)\n",
        "ll.append(1)\n",
        "ll.append(4)\n",
        "ll.append(2)\n",
        "ll.append(5)\n",
        "\n",
        "print(\"Original list:\")\n",
        "ll.print_list()\n",
        "\n",
        "reverse_linked_list(ll)\n",
        "print(\"Reversed list:\")\n",
        "ll.print_list()\n",
        "\n",
        "ll = LinkedList()\n",
        "ll.append(3)\n",
        "ll.append(1)\n",
        "ll.append(4)\n",
        "ll.append(2)\n",
        "ll.append(5)\n",
        "\n",
        "sorted_ll = merge_sort_linked_list(ll)\n",
        "print(\"Sorted list:\")\n",
        "sorted_ll.print_list()\n",
        "\n",
        "ll1 = LinkedList()\n",
        "ll1.append(1)\n",
        "ll1.append(3)\n",
        "ll1.append(5)\n",
        "\n",
        "ll2 = LinkedList()\n",
        "ll2.append(2)\n",
        "ll2.append(4)\n",
        "ll2.append(6)\n",
        "\n",
        "merged_ll = merge_sorted_linked_lists(ll1.head, ll2.head)\n",
        "print(\"Merged sorted list:\")\n",
        "merged_ll.print_list()\n"
      ],
      "metadata": {
        "colab": {
          "base_uri": "https://localhost:8080/"
        },
        "id": "CmjGF6hrIJzA",
        "outputId": "4aa69604-c4c7-46f1-b1f5-34f470796fac"
      },
      "execution_count": 5,
      "outputs": [
        {
          "output_type": "stream",
          "name": "stdout",
          "text": [
            "Original list:\n",
            "3 -> 1 -> 4 -> 2 -> 5 -> None\n",
            "Reversed list:\n",
            "5 -> 2 -> 4 -> 1 -> 3 -> None\n",
            "Sorted list:\n",
            "1 -> 2 -> 3 -> 4 -> 5 -> None\n",
            "Merged sorted list:\n",
            "1 -> 2 -> 3 -> 4 -> 5 -> 6 -> None\n"
          ]
        }
      ]
    },
    {
      "cell_type": "markdown",
      "source": [
        "Завдання 2. Рекурсія. Створення фрактала “дерево Піфагора” за допомогою рекурсії\n",
        "\n",
        "Необхідно написати програму на Python, яка використовує рекурсію для створення фрактала “дерево Піфагора”. Програма має візуалізувати фрактал “дерево Піфагора”, і користувач повинен мати можливість вказати рівень рекурсії."
      ],
      "metadata": {
        "id": "rcCl7YFiJFRv"
      }
    },
    {
      "cell_type": "code",
      "source": [
        "import turtle\n",
        "import math\n",
        "\n",
        "def draw_pythagoras_tree(t, branch_length, level):\n",
        "    if level == 0:\n",
        "        return\n",
        "\n",
        "    t.forward(branch_length)\n",
        "\n",
        "    x, y = t.position()\n",
        "    angle = t.heading()\n",
        "\n",
        "    t.left(45)\n",
        "    draw_pythagoras_tree(t, branch_length * math.sqrt(2) / 2, level - 1)\n",
        "\n",
        "    t.setposition(x, y)\n",
        "    t.setheading(angle)\n",
        "\n",
        "    t.right(45)\n",
        "    draw_pythagoras_tree(t, branch_length * math.sqrt(2) / 2, level - 1)\n",
        "\n",
        "    t.setposition(x, y)\n",
        "    t.setheading(angle)\n",
        "\n",
        "def main():\n",
        "    screen = turtle.Screen()\n",
        "    screen.bgcolor(\"white\")\n",
        "    t = turtle.Turtle()\n",
        "    t.speed(0)\n",
        "\n",
        "    branch_length = 100\n",
        "    level = int(input(\"Enter recursion level: \"))\n",
        "\n",
        "    t.penup()\n",
        "    t.setposition(0, -screen.window_height() // 2 + 20)\n",
        "    t.pendown()\n",
        "    t.left(90)\n",
        "\n",
        "    draw_pythagoras_tree(t, branch_length, level)\n",
        "\n",
        "    t.hideturtle()\n",
        "    screen.mainloop()\n",
        "\n",
        "if __name__ == \"__main__\":\n",
        "    main()\n"
      ],
      "metadata": {
        "id": "S-jWDlkFN5Ap"
      },
      "execution_count": null,
      "outputs": []
    },
    {
      "cell_type": "markdown",
      "source": [
        "Завдання 3. Дерева, алгоритм Дейкстри\n",
        "\n",
        "Розробіть алгоритм Дейкстри для знаходження найкоротших шляхів у зваженому графі, використовуючи бінарну купу. Завдання включає створення графа, використання піраміди для оптимізації вибору вершин та обчислення найкоротших шляхів від початкової вершини до всіх інших."
      ],
      "metadata": {
        "id": "HIqMAn7cPUaw"
      }
    },
    {
      "cell_type": "code",
      "source": [
        "import heapq\n",
        "\n",
        "class Graph:\n",
        "    def __init__(self):\n",
        "        self.nodes = set()\n",
        "        self.edges = {}\n",
        "        self.paths = {}\n",
        "\n",
        "    def add_node(self, value):\n",
        "        self.nodes.add(value)\n",
        "        self.edges[value] = []\n",
        "\n",
        "    def add_edge(self, from_node, to_node, path):\n",
        "        self.edges[from_node].append(to_node)\n",
        "        self.edges[to_node].append(from_node)\n",
        "        self.paths[(from_node, to_node)] = path\n",
        "        self.paths[(to_node, from_node)] = path\n"
      ],
      "metadata": {
        "id": "T4pR2TouPp7j"
      },
      "execution_count": 3,
      "outputs": []
    },
    {
      "cell_type": "code",
      "source": [
        "def dijkstra(graph, start):\n",
        "    paths = {node: float('inf') for node in graph.nodes}\n",
        "    paths[start] = 0\n",
        "\n",
        "    priority_queue = [(0, start)]\n",
        "    heapq.heapify(priority_queue)\n",
        "\n",
        "    while priority_queue:\n",
        "        current_path, current_node = heapq.heappop(priority_queue)\n",
        "\n",
        "        if current_path > paths[current_node]:\n",
        "            continue\n",
        "\n",
        "        for neighbor in graph.edges[current_node]:\n",
        "            path = current_path + graph.paths[(current_node, neighbor)]\n",
        "\n",
        "            if path < paths[neighbor]:\n",
        "                paths[neighbor] = path\n",
        "                heapq.heappush(priority_queue, (path, neighbor))\n",
        "\n",
        "    return paths\n"
      ],
      "metadata": {
        "id": "2DXnp9KeQpvn"
      },
      "execution_count": 2,
      "outputs": []
    },
    {
      "cell_type": "code",
      "source": [
        "graph = Graph()\n",
        "nodes = ['A', 'B', 'C', 'D', 'E', 'F']\n",
        "for node in nodes:\n",
        "    graph.add_node(node)\n",
        "\n",
        "edges = [\n",
        "    ('A', 'B', 4),\n",
        "    ('A', 'C', 2),\n",
        "    ('B', 'C', 1),\n",
        "    ('B', 'D', 5),\n",
        "    ('C', 'D', 8),\n",
        "    ('C', 'E', 10),\n",
        "    ('D', 'E', 2),\n",
        "    ('D', 'F', 6),\n",
        "    ('E', 'F', 3),\n",
        "]\n",
        "\n",
        "for edge in edges:\n",
        "    graph.add_edge(*edge)\n",
        "\n",
        "start_node = 'A'\n",
        "paths = dijkstra(graph, start_node)\n",
        "\n",
        "for node in nodes:\n",
        "    print(f\"Path from {start_node} до {node} = {paths[node]}\")\n"
      ],
      "metadata": {
        "id": "SXqd6LabRk3_"
      },
      "execution_count": null,
      "outputs": []
    },
    {
      "cell_type": "markdown",
      "source": [
        "Цей код дозволяє ефективно знайти найкоротші шляхи в зваженому графі за допомогою алгоритму Дейкстри та бінарної купи для оптимізації вибору вершин.\n",
        "\n",
        "\n",
        "\n",
        "\n",
        "\n",
        "\n"
      ],
      "metadata": {
        "id": "cwt4YLXtSJrp"
      }
    },
    {
      "cell_type": "markdown",
      "source": [
        "Завдання 4. Візуалізація піраміди"
      ],
      "metadata": {
        "id": "bIbi8Dm3SLPo"
      }
    },
    {
      "cell_type": "code",
      "source": [
        "import uuid\n",
        "import networkx as nx\n",
        "import matplotlib.pyplot as plt\n",
        "import heapq\n",
        "\n",
        "class Node:\n",
        "    def __init__(self, key, color=\"skyblue\"):\n",
        "        self.left = None\n",
        "        self.right = None\n",
        "        self.val = key\n",
        "        self.color = color\n",
        "        self.id = str(uuid.uuid4())\n",
        "\n",
        "def add_edges(graph, node, pos, x=0, y=0, layer=1):\n",
        "    if node is not None:\n",
        "        graph.add_node(node.id, color=node.color, label=node.val)\n",
        "        if node.left:\n",
        "            graph.add_edge(node.id, node.left.id)\n",
        "            l = x - 1 / 2 ** layer\n",
        "            pos[node.left.id] = (l, y - 1)\n",
        "            l = add_edges(graph, node.left, pos, x=l, y=y - 1, layer=layer + 1)\n",
        "        if node.right:\n",
        "            graph.add_edge(node.id, node.right.id)\n",
        "            r = x + 1 / 2 ** layer\n",
        "            pos[node.right.id] = (r, y - 1)\n",
        "            r = add_edges(graph, node.right, pos, x=r, y=y - 1, layer=layer + 1)\n",
        "    return graph\n",
        "\n",
        "def draw_tree(tree_root):\n",
        "    tree = nx.DiGraph()\n",
        "    pos = {tree_root.id: (0, 0)}\n",
        "    tree = add_edges(tree, tree_root, pos)\n",
        "\n",
        "    colors = [node[1]['color'] for node in tree.nodes(data=True)]\n",
        "    labels = {node[0]: node[1]['label'] for node in tree.nodes(data=True)}\n",
        "\n",
        "    plt.figure(figsize=(8, 5))\n",
        "    nx.draw(tree, pos=pos, labels=labels, arrows=False, node_size=2500, node_color=colors)\n",
        "    plt.show()\n",
        "\n",
        "def heap_to_tree(heap):\n",
        "    if not heap:\n",
        "        return None\n",
        "\n",
        "    nodes = [Node(key) for key in heap]\n",
        "    n = len(nodes)\n",
        "\n",
        "    for i in range(n // 2):\n",
        "        if 2 * i + 1 < n:\n",
        "            nodes[i].left = nodes[2 * i + 1]\n",
        "        if 2 * i + 2 < n:\n",
        "            nodes[i].right = nodes[2 * i + 2]\n",
        "\n",
        "    return nodes[0]\n",
        "\n",
        "heap = [0, 1, 3, 4, 5, 10]\n",
        "\n",
        "root = heap_to_tree(heap)\n",
        "\n",
        "draw_tree(root)\n"
      ],
      "metadata": {
        "colab": {
          "base_uri": "https://localhost:8080/",
          "height": 536
        },
        "id": "YJiyIYyASZP-",
        "outputId": "0760117e-602b-44f8-9fb9-af84d42b7b60"
      },
      "execution_count": 4,
      "outputs": [
        {
          "output_type": "display_data",
          "data": {
            "text/plain": [
              "<Figure size 800x500 with 1 Axes>"
            ],
            "image/png": "[encoded data removed]"
          },
          "metadata": {}
        }
      ]
    },
    {
      "cell_type": "markdown",
      "source": [
        "Завдання 5. Візуалізація обходу бінарного дерева\n",
        "\n",
        "Використовуючи код із завдання 4 для побудови бінарного дерева, необхідно створити програму на Python, яка візуалізує обходи дерева: у глибину та в ширину.\n",
        "\n",
        "Вона повинна відображати кожен крок у вузлах з різними кольорами, використовуючи 16-систему RGB (приклад #1296F0). Кольори вузлів мають змінюватися від темних до світлих відтінків, залежно від послідовності обходу. Кожен вузол при його відвідуванні має отримувати унікальний колір, який візуально відображає порядок обходу."
      ],
      "metadata": {
        "id": "CUR-xvMUT9KZ"
      }
    },
    {
      "cell_type": "code",
      "source": [
        "import uuid\n",
        "import networkx as nx\n",
        "import matplotlib.pyplot as plt\n",
        "import colorsys\n",
        "\n",
        "class Node:\n",
        "    def __init__(self, key):\n",
        "        self.left = None\n",
        "        self.right = None\n",
        "        self.val = key\n",
        "        self.color = \"#000000\"\n",
        "        self.id = str(uuid.uuid4())\n",
        "\n",
        "def add_edges(graph, node, pos, x=0, y=0, layer=1):\n",
        "    if node is not None:\n",
        "        graph.add_node(node.id, color=node.color, label=node.val)\n",
        "        if node.left:\n",
        "            graph.add_edge(node.id, node.left.id)\n",
        "            l = x - 1 / 2 ** layer\n",
        "            pos[node.left.id] = (l, y - 1)\n",
        "            l = add_edges(graph, node.left, pos, x=l, y=y - 1, layer=layer + 1)\n",
        "        if node.right:\n",
        "            graph.add_edge(node.id, node.right.id)\n",
        "            r = x + 1 / 2 ** layer\n",
        "            pos[node.right.id] = (r, y - 1)\n",
        "            r = add_edges(graph, node.right, pos, x=r, y=y - 1, layer=layer + 1)\n",
        "    return graph\n",
        "\n",
        "def draw_tree(tree_root):\n",
        "    tree = nx.DiGraph()\n",
        "    pos = {tree_root.id: (0, 0)}\n",
        "    tree = add_edges(tree, tree_root, pos)\n",
        "\n",
        "    colors = [node[1]['color'] for node in tree.nodes(data=True)]\n",
        "    labels = {node[0]: node[1]['label'] for node in tree.nodes(data=True)}\n",
        "\n",
        "    plt.figure(figsize=(10, 7))\n",
        "    nx.draw(tree, pos=pos, labels=labels, arrows=False, node_size=2500, node_color=colors)\n",
        "    plt.show()\n",
        "\n",
        "def heap_to_tree(heap):\n",
        "    if not heap:\n",
        "        return None\n",
        "\n",
        "    nodes = [Node(key) for key in heap]\n",
        "    n = len(nodes)\n",
        "\n",
        "    for i in range(n // 2):\n",
        "        if 2 * i + 1 < n:\n",
        "            nodes[i].left = nodes[2 * i + 1]\n",
        "        if 2 * i + 2 < n:\n",
        "            nodes[i].right = nodes[2 * i + 2]\n",
        "\n",
        "    return nodes[0]\n",
        "\n",
        "def generate_color(index, total):\n",
        "    hue = index / total\n",
        "    lightness = 0.5 + 0.5 * (index / total)\n",
        "    color = colorsys.hls_to_rgb(hue, lightness, 1)\n",
        "    return '#%02x%02x%02x' % (int(color[0] * 255), int(color[1] * 255), int(color[2] * 255))\n"
      ],
      "metadata": {
        "id": "0sUJtwtvT-cp"
      },
      "execution_count": null,
      "outputs": []
    },
    {
      "cell_type": "code",
      "source": [
        "def depth_first_search(node, order, colors):\n",
        "    if node is not None:\n",
        "        node.color = colors[order.index(node.val)]\n",
        "        draw_tree(root)\n",
        "        depth_first_search(node.left, order, colors)\n",
        "        depth_first_search(node.right, order, colors)\n",
        "\n",
        "def breadth_first_search(node, order, colors):\n",
        "    queue = [node]\n",
        "    while queue:\n",
        "        current = queue.pop(0)\n",
        "        if current is not None:\n",
        "            current.color = colors[order.index(current.val)]\n",
        "            draw_tree(root)\n",
        "            queue.append(current.left)\n",
        "            queue.append(current.right)\n"
      ],
      "metadata": {
        "id": "R-djYFK_VLIF"
      },
      "execution_count": null,
      "outputs": []
    },
    {
      "cell_type": "code",
      "source": [
        "heap = [0, 1, 3, 4, 5, 10]\n",
        "\n",
        "root = heap_to_tree(heap)\n",
        "\n",
        "total_nodes = len(heap)\n",
        "colors = [generate_color(i, total_nodes) for i in range(total_nodes)]\n",
        "order = heap\n",
        "\n",
        "print(\"Step in depth\")\n",
        "depth_first_search(root, order, colors)\n",
        "\n",
        "root = heap_to_tree(heap)\n",
        "\n",
        "print(\"Step in width\")\n",
        "breadth_first_search(root, order, colors)\n"
      ],
      "metadata": {
        "id": "LBdTGjhsVQ1a"
      },
      "execution_count": null,
      "outputs": []
    },
    {
      "cell_type": "markdown",
      "source": [
        "Завдання 6. Жадібні алгоритми та динамічне програмування\n",
        "\n",
        "Необхідно написати програму на Python, яка використовує два підходи — жадібний алгоритм та алгоритм динамічного програмування для розв’язання задачі вибору їжі з найбільшою сумарною калорійністю в межах обмеженого бюджету.\n",
        "\n",
        "Кожен вид їжі має вказану вартість і калорійність. Дані про їжу представлені у вигляді словника, де ключ — назва страви, а значення — це словник з вартістю та калорійністю."
      ],
      "metadata": {
        "id": "6PS9g6yuWKqj"
      }
    },
    {
      "cell_type": "markdown",
      "source": [
        "Greedy Algorythm"
      ],
      "metadata": {
        "id": "4dZIA90HWWYh"
      }
    },
    {
      "cell_type": "code",
      "source": [
        "def greedy_algorithm(items, budget):\n",
        "    sorted_items = sorted(items.items(), key=lambda x: x[1][\"calories\"] / x[1][\"cost\"], reverse=True)\n",
        "    total_calories = 0\n",
        "    total_cost = 0\n",
        "    chosen_items = []\n",
        "\n",
        "    for item, info in sorted_items:\n",
        "        if total_cost + info[\"cost\"] <= budget:\n",
        "            chosen_items.append(item)\n",
        "            total_cost += info[\"cost\"]\n",
        "            total_calories += info[\"calories\"]\n",
        "\n",
        "    return chosen_items, total_cost, total_calories\n"
      ],
      "metadata": {
        "id": "k2XGqAKdWL5s"
      },
      "execution_count": null,
      "outputs": []
    },
    {
      "cell_type": "markdown",
      "source": [
        "Dynamic Programming Algorythm"
      ],
      "metadata": {
        "id": "9_TyZdPqWeFd"
      }
    },
    {
      "cell_type": "code",
      "source": [
        "def dynamic_programming(items, budget):\n",
        "    n = len(items)\n",
        "    item_list = list(items.items())\n",
        "    dp = [[0] * (budget + 1) for _ in range(n + 1)]\n",
        "\n",
        "    for i in range(1, n + 1):\n",
        "        item, info = item_list[i - 1]\n",
        "        for w in range(budget + 1):\n",
        "            if info[\"cost\"] <= w:\n",
        "                dp[i][w] = max(dp[i - 1][w], dp[i - 1][w - info[\"cost\"]] + info[\"calories\"])\n",
        "            else:\n",
        "                dp[i][w] = dp[i - 1][w]\n",
        "\n",
        "    total_calories = dp[n][budget]\n",
        "    w = budget\n",
        "    chosen_items = []\n",
        "\n",
        "    for i in range(n, 0, -1):\n",
        "        if dp[i][w] != dp[i - 1][w]:\n",
        "            item, info = item_list[i - 1]\n",
        "            chosen_items.append(item)\n",
        "            w -= info[\"cost\"]\n",
        "\n",
        "    total_cost = sum(items[item][\"cost\"] for item in chosen_items)\n",
        "\n",
        "    return chosen_items, total_cost, total_calories\n"
      ],
      "metadata": {
        "id": "xllUSocjWm38"
      },
      "execution_count": null,
      "outputs": []
    },
    {
      "cell_type": "code",
      "source": [
        "items = {\n",
        "    \"pizza\": {\"cost\": 50, \"calories\": 300},\n",
        "    \"hamburger\": {\"cost\": 40, \"calories\": 250},\n",
        "    \"hot-dog\": {\"cost\": 30, \"calories\": 200},\n",
        "    \"pepsi\": {\"cost\": 10, \"calories\": 100},\n",
        "    \"cola\": {\"cost\": 15, \"calories\": 220},\n",
        "    \"potato\": {\"cost\": 25, \"calories\": 350}\n",
        "}\n",
        "\n",
        "budget = 100\n",
        "\n",
        "# Greedy Algorythm\n",
        "greedy_result = greedy_algorithm(items, budget)\n",
        "print(\"Greedy Algorithm Result:\")\n",
        "print(\"Chosen items:\", greedy_result[0])\n",
        "print(\"Total cost:\", greedy_result[1])\n",
        "print(\"Total calories:\", greedy_result[2])\n",
        "\n",
        "# Dynamic Programming\n",
        "dp_result = dynamic_programming(items, budget)\n",
        "print(\"\\nDynamic Programming Result:\")\n",
        "print(\"Chosen items:\", dp_result[0])\n",
        "print(\"Total cost:\", dp_result[1])\n",
        "print(\"Total calories:\", dp_result[2])\n"
      ],
      "metadata": {
        "id": "uUXWZd69WzgA"
      },
      "execution_count": null,
      "outputs": []
    },
    {
      "cell_type": "markdown",
      "source": [
        "Завдання 7. Використання методу Монте-Карло\n",
        "\n",
        "Необхідно написати програму на Python, яка імітує велику кількість кидків кубиків, обчислює суми чисел, які випадають на кубиках, і визначає ймовірність кожної можливої суми.\n",
        "\n",
        "Створіть симуляцію, де два кубики кидаються велику кількість разів. Для кожного кидка визначте суму чисел, які випали на обох кубиках. Підрахуйте, скільки разів кожна можлива сума (від 2 до 12) з’являється у процесі симуляції. Використовуючи ці дані, обчисліть імовірність кожної суми.\n",
        "\n",
        "На основі проведених імітацій створіть таблицю або графік, який відображає ймовірності кожної суми, виявлені за допомогою методу Монте-Карло."
      ],
      "metadata": {
        "id": "4leAqtlWXtMn"
      }
    },
    {
      "cell_type": "code",
      "source": [
        "import random\n",
        "import matplotlib.pyplot as plt\n",
        "\n",
        "def monte_carlo_simulation(num_rolls):\n",
        "    counts = {i: 0 for i in range(2, 13)}\n",
        "\n",
        "    for _ in range(num_rolls):\n",
        "        dice1 = random.randint(1, 6)\n",
        "        dice2 = random.randint(1, 6)\n",
        "        sum_dices = dice1 + dice2\n",
        "        counts[sum_dices] += 1\n",
        "\n",
        "    probabilities = {sum_: count / num_rolls for sum_, count in counts.items()}\n",
        "    return probabilities\n",
        "\n",
        "analytical_probabilities = {\n",
        "    2: 1/36,\n",
        "    3: 2/36,\n",
        "    4: 3/36,\n",
        "    5: 4/36,\n",
        "    6: 5/36,\n",
        "    7: 6/36,\n",
        "    8: 5/36,\n",
        "    9: 4/36,\n",
        "    10: 3/36,\n",
        "    11: 2/36,\n",
        "    12: 1/36\n",
        "}\n",
        "\n",
        "num_rolls = 1000000\n",
        "\n",
        "mc_probabilities = monte_carlo_simulation(num_rolls)\n",
        "\n",
        "print(\"Sum Analytical Probability (Monte Carlo Method)\")\n",
        "for sum_ in range(2, 13):\n",
        "    print(f\"{sum_:4}  {analytical_probabilities[sum_]:23.4f}  {mc_probabilities[sum_]:.4f}\")\n",
        "\n",
        "# Visualisation of results\n",
        "sums = list(range(2, 13))\n",
        "analytical_values = [analytical_probabilities[sum_] for sum_ in sums]\n",
        "mc_values = [mc_probabilities[sum_] for sum_ in sums]\n",
        "\n",
        "plt.figure(figsize=(10, 6))\n",
        "plt.bar(sums, analytical_values, alpha=0.5, label='Analytical probability', color='blue')\n",
        "plt.bar(sums, mc_values, alpha=0.5, label='Probability (Monte Carlo Method)', color='orange')\n",
        "plt.xlabel('Amount')\n",
        "plt.ylabel('Probability')\n",
        "plt.legend()\n",
        "plt.title('Probabilities of sums when rolling two dice')\n",
        "plt.grid(True)\n",
        "plt.show()\n"
      ],
      "metadata": {
        "colab": {
          "base_uri": "https://localhost:8080/",
          "height": 768
        },
        "id": "dviGX3YXXua_",
        "outputId": "2c9ff5ad-18dc-4b99-9e6a-6cc8fefe3663"
      },
      "execution_count": 5,
      "outputs": [
        {
          "output_type": "stream",
          "name": "stdout",
          "text": [
            "Sum Analytical Probability (Monte Carlo Method)\n",
            "   2                   0.0278  0.0276\n",
            "   3                   0.0556  0.0556\n",
            "   4                   0.0833  0.0839\n",
            "   5                   0.1111  0.1112\n",
            "   6                   0.1389  0.1390\n",
            "   7                   0.1667  0.1668\n",
            "   8                   0.1389  0.1384\n",
            "   9                   0.1111  0.1105\n",
            "  10                   0.0833  0.0833\n",
            "  11                   0.0556  0.0557\n",
            "  12                   0.0278  0.0278\n"
          ]
        },
        {
          "output_type": "display_data",
          "data": {
            "text/plain": [
              "<Figure size 1000x600 with 1 Axes>"
            ],
            "image/png": "[encoded data removed]"
          },
          "metadata": {}
        }
      ]
    },
    {
      "cell_type": "markdown",
      "source": [],
      "metadata": {
        "id": "OI3NscDLWqqp"
      }
    }
  ]
}